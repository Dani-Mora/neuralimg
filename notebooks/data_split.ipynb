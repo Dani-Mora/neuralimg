{
 "cells": [
  {
   "cell_type": "code",
   "execution_count": 157,
   "metadata": {
    "collapsed": false
   },
   "outputs": [],
   "source": [
    "#!/usr/bin/python\n",
    "\n",
    "import numpy\n",
    "import random\n",
    "\n",
    "def split(labels, ratio_t, ratio_v, mode, shuffle=True):\n",
    "    \"\"\" Splits the input labels into training, validation and testing\n",
    "    and returns the corresponding indices\n",
    "    Params\n",
    "    ------------\n",
    "    ratio_t: float [0,1]\n",
    "        Ratio of training instances\n",
    "    ratio_v: float[0, 1]\n",
    "        Ratio of validation instances\n",
    "    mode: string\n",
    "        How to split the data:\n",
    "            - random: Randomly assigns instances to each set. Uses all instances\n",
    "            - same: All classes are assigned the same number of instances in\n",
    "                each set. It is bounded by the less common class.\n",
    "            - ratio: Preserves the ratio of the classes in the original set.\n",
    "    respect_ratio: boolean\n",
    "        Whether to respect the ratio of classes in the original dataset\n",
    "    shuffle:boolean\n",
    "        Whether to shuffle final indices at the end \"\"\"\n",
    "\n",
    "    _check_ratio(ratio_t)\n",
    "    _check_ratio(ratio_v)\n",
    "\n",
    "    # Get stats from classes\n",
    "    vals = numpy.unique(labels)\n",
    "    positions = { i: numpy.where(labels == i)[0] for i in vals}\n",
    "\n",
    "    if mode == 'same':\n",
    "        tr, v, t = _split_same(positions, ratio_t, ratio_v)\n",
    "    elif mode == 'ratio':\n",
    "        tr, v, t = _split_ratio(positions, ratio_t, ratio_v)\n",
    "    elif mode == 'random':\n",
    "        tr, v, t = _split_random(labels, ratio_t, ratio_v)\n",
    "    else:\n",
    "        raise ValueError('Unknown split mode {}'.format(mode))\n",
    "\n",
    "    if shuffle is True:\n",
    "        random.shuffle(tr)\n",
    "        random.shuffle(v)\n",
    "        random.shuffle(t)\n",
    "    \n",
    "    return tr, v, t\n",
    "\n",
    "\n",
    "def _split_random(labels, ratio_t, ratio_v):\n",
    "    \"\"\" Splits the data into sets in a random fashion \"\"\"\n",
    "    ct = int(numpy.floor(len(labels) * ratio_t))\n",
    "    vt = int(numpy.floor(len(labels) * ratio_v))\n",
    "    perm = numpy.random.permutation(len(labels))\n",
    "    return perm[0:ct], perm[ct:(ct + vt)], perm[(ct + vt):]\n",
    "\n",
    "\n",
    "def _split_ratio(positions, ratio_t, ratio_v):\n",
    "    \"\"\" Given the positions for each class, splits data preserving\n",
    "    the class ratio in the original set\n",
    "    Params\n",
    "    ---------\n",
    "    positions: dict\n",
    "        Key is the label identifier and each entry contains\n",
    "        the positions in the original dataset\n",
    "    ratio_t: float\n",
    "        Training ratio\n",
    "    ratio_v: float\n",
    "        Validation ratio\n",
    "    \"\"\"\n",
    "\n",
    "    train, val, test = [[]] * 3\n",
    "    for i in positions.keys():\n",
    "        # Split permutation so each class is split according to \n",
    "        # the original distribution\n",
    "        perm = numpy.random.permutation(len(positions[i]))\n",
    "        ct = int(numpy.floor(len(perm) * ratio_t))\n",
    "        cv = int(numpy.floor(len(perm) * ratio_v))\n",
    "        cte = len(perm) - cv - ct\n",
    "        # Concat results\n",
    "        train = train + positions[i][perm[0:ct]].tolist()\n",
    "        val = val + positions[i][perm[ct:(ct + cv)]].tolist()\n",
    "        test = test + positions[i][perm[(ct + cv):(ct + cv + cte)]].tolist()\n",
    "    return numpy.asarray(train), numpy.asarray(val), numpy.asarray(test)\n",
    "\n",
    "\n",
    "def _split_same(positions, ratio_t, ratio_v):\n",
    "    \"\"\" Given the positions for each class, balances the class instances\n",
    "    for training, validation and testing \n",
    "    Params\n",
    "    ---------\n",
    "    positions: dict\n",
    "        Key is the label identifier and each entry contains\n",
    "        the positions in the original dataset\n",
    "    ratio_t: float\n",
    "        Training ratio\n",
    "    ratio_v: float\n",
    "        Validation ratio\n",
    "    \"\"\"\n",
    "\n",
    "    # Get minimum represented class\n",
    "    counts = { i: len(positions[i]) for i in positions.keys()}\n",
    "    per_class = min(counts.values())\n",
    "    train, val, test = [[]] * 3\n",
    "    # Split data so each class is taken 'per_class' instances\n",
    "    ct = int(numpy.ceil(per_class * ratio_t))\n",
    "    cv = int(numpy.ceil(per_class * ratio_v))\n",
    "    cte = per_class - ct - cv\n",
    "    # Iterate through classes so all classes have the same\n",
    "    # number of instances in each set\n",
    "    for i in positions.keys():\n",
    "        perm = numpy.random.permutation(len(positions[i]))\n",
    "        train = train + positions[i][perm[0:ct]].tolist()\n",
    "        val = val + positions[i][perm[ct:(ct + cv)]].tolist()\n",
    "        test = test + positions[i][perm[(ct + cv):(ct + cv + cte)]].tolist()\n",
    "    return numpy.asarray(train), numpy.asarray(val), numpy.asarray(test)\n",
    "\n",
    "\n",
    "def _check_ratio(r):\n",
    "    if r < 0.0 or r > 1.0:\n",
    "        raise ValueError('Ratio must be between 0 and 1, both included')\n",
    "\n",
    "def count_class_ratio(original, indices):\n",
    "    \"\"\" Given a set of indices and the original set, computes the\n",
    "    ratio of classes\"\"\"\n",
    "    \n",
    "    labels = [original[i] for i in indices]\n",
    "    vals = numpy.unique(labels)\n",
    "    total = float(len(labels))\n",
    "    return {i: sum(labels == i)/total for i in vals}\n",
    "\n",
    "def print_split(labels, tr, v, t):\n",
    "    print('Training size: {}, Validation size: {}, Testing size: {}'.format(len(tr), len(v), len(t)))\n",
    "    print('Instances per class:')\n",
    "    print('---- > Training: {}'.format(count_class_ratio(labels, tr)))\n",
    "    print('---- > Validation: {}'.format(count_class_ratio(labels, v)))\n",
    "    print('---- > Testing: {}'.format(count_class_ratio(labels, t)))\n",
    "    print('Original class ratio: {}'.format(count_class_ratio(labels, range(0, len(labels)))))"
   ]
  },
  {
   "cell_type": "code",
   "execution_count": 158,
   "metadata": {
    "collapsed": false
   },
   "outputs": [],
   "source": [
    "labels = []\n",
    "for i in range(0, 5000):\n",
    "    labels.append(random.randint(0, 1))\n",
    "\n",
    "ratio_t = 0.70\n",
    "ratio_v = 0.20\n",
    "#labels = numpy.asarray(labels) Can be also used as an array"
   ]
  },
  {
   "cell_type": "code",
   "execution_count": 159,
   "metadata": {
    "collapsed": false
   },
   "outputs": [
    {
     "name": "stdout",
     "output_type": "stream",
     "text": [
      "Training size: 3500, Validation size: 1000, Testing size: 500\n",
      "Instances per class:\n",
      "---- > Training: {0: 0.50257142857142856, 1: 0.49742857142857144}\n",
      "---- > Validation: {0: 0.49399999999999999, 1: 0.50600000000000001}\n",
      "---- > Testing: {0: 0.50800000000000001, 1: 0.49199999999999999}\n",
      "Original class ratio: {0: 0.50139999999999996, 1: 0.49859999999999999}\n"
     ]
    }
   ],
   "source": [
    "# Testing random mode\n",
    "tr, v, t = split(labels, ratio_t, ratio_v, 'random', shuffle=False)\n",
    "print_split(labels, tr, v, t)"
   ]
  },
  {
   "cell_type": "code",
   "execution_count": 160,
   "metadata": {
    "collapsed": false
   },
   "outputs": [
    {
     "name": "stdout",
     "output_type": "stream",
     "text": [
      "Training size: 3492, Validation size: 998, Testing size: 496\n",
      "Instances per class:\n",
      "---- > Training: {0: 0.5, 1: 0.5}\n",
      "---- > Validation: {0: 0.5, 1: 0.5}\n",
      "---- > Testing: {0: 0.5, 1: 0.5}\n",
      "Original class ratio: {0: 0.50139999999999996, 1: 0.49859999999999999}\n"
     ]
    }
   ],
   "source": [
    "# Testing same mode\n",
    "tr, v, t = split(labels, ratio_t, ratio_v, 'same', shuffle=False)\n",
    "print_split(labels, tr, v, t)"
   ]
  },
  {
   "cell_type": "code",
   "execution_count": 161,
   "metadata": {
    "collapsed": false
   },
   "outputs": [
    {
     "name": "stdout",
     "output_type": "stream",
     "text": [
      "Training size: 3499, Validation size: 999, Testing size: 502\n",
      "Instances per class:\n",
      "---- > Training: {0: 0.50128608173763933, 1: 0.49871391826236067}\n",
      "---- > Validation: {0: 0.50150150150150152, 1: 0.49849849849849848}\n",
      "---- > Testing: {0: 0.50199203187250996, 1: 0.49800796812749004}\n",
      "Original class ratio: {0: 0.50139999999999996, 1: 0.49859999999999999}\n"
     ]
    }
   ],
   "source": [
    "# Testing ratio mode\n",
    "tr, v, t = split(labels, ratio_t, ratio_v, 'ratio')\n",
    "print_split(labels, tr, v, t)"
   ]
  }
 ],
 "metadata": {
  "kernelspec": {
   "display_name": "Python 2",
   "language": "python",
   "name": "python2"
  },
  "language_info": {
   "codemirror_mode": {
    "name": "ipython",
    "version": 2
   },
   "file_extension": ".py",
   "mimetype": "text/x-python",
   "name": "python",
   "nbconvert_exporter": "python",
   "pygments_lexer": "ipython2",
   "version": "2.7.12"
  }
 },
 "nbformat": 4,
 "nbformat_minor": 0
}
