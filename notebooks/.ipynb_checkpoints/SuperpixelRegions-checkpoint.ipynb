{
 "cells": [
  {
   "cell_type": "code",
   "execution_count": null,
   "metadata": {
    "collapsed": true
   },
   "outputs": [],
   "source": [
    "#!/usr/bin/python\n",
    "\n",
    "import cv2\n",
    "import mahotas as mh\n",
    "\n",
    "import numpy\n",
    "import re\n",
    "import os\n",
    "import glob\n",
    "import h5py\n",
    "import pickle\n",
    "import pylab as plt\n",
    "\n",
    "import image_utils as iu\n",
    "\n",
    "\"\"\" Returns the number of pixels belonging to the specific\n",
    "region in the image \"\"\"\n",
    "\n",
    "\n",
    "def region_count(img, label):\n",
    "    return sum(sum(img == label))\n",
    "\n",
    "\"\"\" Measures the size of merged regions corresponding to the groundtruth  \"\"\"\n",
    "\n",
    "\n",
    "def pixel_merges(merge_folder, gt_folder, outp=None):\n",
    "\n",
    "    gts, gts_size = iu.read_images(gt_folder)\n",
    "    merges = iu.read_merges(merge_folder)\n",
    "\n",
    "    bins = dict()\n",
    "    for ident, im in enumerate(gts):\n",
    "\n",
    "            merge_regions = merges[ident]\n",
    "            for key, value in merge_regions.iteritems():\n",
    "                for r in value:\n",
    "                    num = region_count(im, r)\n",
    "                    if num not in bins:\n",
    "                        bins[num] = 0\n",
    "                    bins[num] = bins[num] + 1\n",
    "\n",
    "        if outp is not None:\n",
    "            with open(outp, 'wb') as f:\n",
    "                pickle.dump(bins, f)\n",
    "\n",
    "        return bins\n",
    "\n",
    "\n",
    "\"\"\" Plots the distribution of the data stored \"\"\"\n",
    "\n",
    "\n",
    "def plot_data(path, normalize=True, xlim=None):\n",
    "\n",
    "    with open(path, 'r') as f:\n",
    "        data = pickle.load(f)\n",
    "        # Density instead of counts\n",
    "        x = data.keys()\n",
    "        y = data.values()\n",
    "        y_total = sum(y)\n",
    "        y = [i/float(y_total) for i in y]\n",
    "        # Plot depending on input lim\n",
    "        plt.plot(x, y)\n",
    "        if xlim is not None:\n",
    "            plt.xlim([0, xlim])\n",
    "        # Show\n",
    "        plt.show()\n"
   ]
  },
  {
   "cell_type": "code",
   "execution_count": null,
   "metadata": {
    "collapsed": true
   },
   "outputs": [],
   "source": [
    "if __name__ == '__main__':\n",
    "    #print pixel_merges('/home/morad/projects/neural/snemi/00_prepare_data/tmpA', \n",
    "    #    '/DataDisk/morad/cremi/groundtruth_unconnected/sectionA', \n",
    "    #    './bins.data')\n",
    "    plot_data('bins.data', True, xlim=100)\n"
   ]
  }
 ],
 "metadata": {
  "kernelspec": {
   "display_name": "Python 2",
   "language": "python",
   "name": "python2"
  },
  "language_info": {
   "codemirror_mode": {
    "name": "ipython",
    "version": 2
   },
   "file_extension": ".py",
   "mimetype": "text/x-python",
   "name": "python",
   "nbconvert_exporter": "python",
   "pygments_lexer": "ipython2",
   "version": "2.7.12"
  }
 },
 "nbformat": 4,
 "nbformat_minor": 0
}
