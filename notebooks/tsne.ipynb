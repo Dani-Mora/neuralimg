{
 "cells": [
  {
   "cell_type": "code",
   "execution_count": 49,
   "metadata": {
    "collapsed": true
   },
   "outputs": [],
   "source": [
    "import numpy as np\n",
    "from sklearn.manifold import TSNE\n",
    "import matplotlib.pyplot as plt\n",
    "from matplotlib.offsetbox import TextArea, DrawingArea, OffsetImage, AnnotationBbox\n",
    "from scipy.misc import imresize"
   ]
  },
  {
   "cell_type": "code",
   "execution_count": 102,
   "metadata": {
    "collapsed": true
   },
   "outputs": [],
   "source": [
    "def generate_image(images, positions, index):\n",
    "    \"\"\" Generates a ready-to.plot annotation box for the ith row\n",
    "    given the images and positions \"\"\"\n",
    "    im = OffsetImage(images[index, ...], zoom=1)\n",
    "    xy = positions[i, :]\n",
    "    return AnnotationBbox(im, xy, pad=0)\n"
   ]
  },
  {
   "cell_type": "code",
   "execution_count": 108,
   "metadata": {
    "collapsed": false
   },
   "outputs": [],
   "source": [
    "# Generate fake descriptors\n",
    "imgs = np.random.random((30, 32, 32, 3))\n",
    "desc = np.random.random((30, 200))\n",
    "plot_num = 25\n",
    "\n",
    "# Get subset of descriptors and respective images\n",
    "inds = np.random.permutation(desc.shape[0])[0:plot_num]\n",
    "subset_imgs = imgs[inds, ...]\n",
    "subset_desc = desc[inds, ...]"
   ]
  },
  {
   "cell_type": "code",
   "execution_count": 109,
   "metadata": {
    "collapsed": true
   },
   "outputs": [],
   "source": [
    "model = TSNE(n_components=2, random_state=0) # TODO: studya and adjust parameters\n",
    "np.set_printoptions(suppress=True)\n",
    "new_desc = model.fit_transform(desc)"
   ]
  },
  {
   "cell_type": "code",
   "execution_count": 112,
   "metadata": {
    "collapsed": false
   },
   "outputs": [
    {
     "data": {
      "text/plain": [
       "array([[ 0.000176  ,  0.00003998],\n",
       "       [ 0.00009759,  0.00022351],\n",
       "       [ 0.00018609, -0.00009745],\n",
       "       [ 0.00009482, -0.00001507],\n",
       "       [-0.00001028,  0.00004106],\n",
       "       [ 0.00001437,  0.00014516],\n",
       "       [ 0.00007588,  0.00001218],\n",
       "       [ 0.00004432,  0.00003338],\n",
       "       [ 0.00014913, -0.00002049],\n",
       "       [ 0.00003128, -0.00008524],\n",
       "       [-0.00025439,  0.0000652 ],\n",
       "       [ 0.00008632, -0.00007415],\n",
       "       [ 0.00022623, -0.00014496],\n",
       "       [ 0.00000461, -0.00001873],\n",
       "       [ 0.00015306,  0.00014658],\n",
       "       [ 0.00001549,  0.00003782],\n",
       "       [-0.00008849, -0.00019752],\n",
       "       [-0.00003477,  0.00001564],\n",
       "       [ 0.00012279,  0.00012005],\n",
       "       [-0.00003873, -0.00003021],\n",
       "       [-0.00010443, -0.00014175],\n",
       "       [-0.00017004,  0.00019445],\n",
       "       [-0.00005089, -0.00004381],\n",
       "       [-0.00012497,  0.00007759],\n",
       "       [-0.00016091, -0.00002115],\n",
       "       [-0.00008945,  0.00003863],\n",
       "       [-0.00005093, -0.00011787],\n",
       "       [-0.00000281,  0.00004279],\n",
       "       [ 0.00000664,  0.00003029],\n",
       "       [-0.00006339, -0.00003628]])"
      ]
     },
     "execution_count": 112,
     "metadata": {},
     "output_type": "execute_result"
    }
   ],
   "source": [
    "new_desc"
   ]
  },
  {
   "cell_type": "code",
   "execution_count": 115,
   "metadata": {
    "collapsed": false
   },
   "outputs": [
    {
     "data": {
      "text/plain": [
       "[-0.00025438625943404754, 0.00022623482408088544]"
      ]
     },
     "execution_count": 115,
     "metadata": {},
     "output_type": "execute_result"
    }
   ],
   "source": [
    "[new_desc[:, 0].min(), new_desc[:, 0].max()]"
   ]
  },
  {
   "cell_type": "code",
   "execution_count": 99,
   "metadata": {
    "collapsed": false
   },
   "outputs": [],
   "source": [
    "# Plot as box\n",
    "fig, ax = plt.subplots()\n",
    "\n",
    "im = OffsetImage(subset_imgs[0, ...], zoom=1)\n",
    "xy = [0.3, 0.55]\n",
    "ab = AnnotationBbox(im, xy,\n",
    "                    xybox=(-0., 0.),\n",
    "                    pad=0,\n",
    "                    xycoords='data',\n",
    "                    boxcoords=\"offset points\")\n",
    "\n",
    "ax.add_artist(ab)\n",
    "\n",
    "plt.draw()\n",
    "plt.show()"
   ]
  },
  {
   "cell_type": "code",
   "execution_count": null,
   "metadata": {
    "collapsed": true
   },
   "outputs": [],
   "source": [
    "# Plot as image (easire)\n",
    "fig, ax = plt.subplots()100\n",
    "#  extent=(0.4, 0.6, .5, .7), zorder=-1\n",
    "ax.imshow(subset_imgs[0, ...], aspect='auto', interpolation='nearest')\n",
    "ax.scatter(new_desc[:, 0], new_desc[:, 1])\n",
    "plt.show()"
   ]
  },
  {
   "cell_type": "code",
   "execution_count": 40,
   "metadata": {
    "collapsed": false
   },
   "outputs": [],
   "source": [
    "# Get minimum and maximum for each 2D axis\n",
    "new_desc = \n",
    "\n"
   ]
  },
  {
   "cell_type": "code",
   "execution_count": 80,
   "metadata": {
    "collapsed": false
   },
   "outputs": [],
   "source": [
    "extent = np.abs(new_desc.max(0) - new_desc.min(0))\n",
    "# Resize images so they are a 10th of the maximum extend of the axis\n",
    "r_ratio = 5\n",
    "img_size = (int(subset_imgs.shape[1]/r_ratio), \n",
    "            int(subset_imgs.shape[2]/r_ratio), int(subset_imgs.shape[3]))\n",
    "new_imgs = np.empty(((subset_imgs.shape[0],) + new_size))\n",
    "for i in range(subset_imgs.shape[0]):\n",
    "    img = imresize(subset_imgs[i, ...], new_size, 'nearest')\n",
    "    new_imgs[i, ...] = imresize(subset_imgs[i, ...], new_size, 'nearest')"
   ]
  },
  {
   "cell_type": "code",
   "execution_count": 81,
   "metadata": {
    "collapsed": false
   },
   "outputs": [
    {
     "data": {
      "text/plain": [
       "(25, 3, 3, 3)"
      ]
     },
     "execution_count": 81,
     "metadata": {},
     "output_type": "execute_result"
    }
   ],
   "source": [
    "new_imgs.shape"
   ]
  },
  {
   "cell_type": "code",
   "execution_count": 103,
   "metadata": {
    "collapsed": false,
    "scrolled": true
   },
   "outputs": [
    {
     "name": "stdout",
     "output_type": "stream",
     "text": [
      "0\n",
      "AnnotationBbox(13.7459,1.25139)\n",
      "1\n",
      "AnnotationBbox(-5.00003,6.37833)\n",
      "2\n",
      "AnnotationBbox(7.91283,-1.92453)\n",
      "3\n",
      "AnnotationBbox(4.40778,-2.668)\n",
      "4\n",
      "AnnotationBbox(4.35154,-5.9737)\n",
      "5\n",
      "AnnotationBbox(2.99994,10.2566)\n",
      "6\n",
      "AnnotationBbox(-5.26238,9.0791)\n",
      "7\n",
      "AnnotationBbox(7.39174,4.148)\n",
      "8\n",
      "AnnotationBbox(-6.4647,4.08325)\n",
      "9\n",
      "AnnotationBbox(-8.40284,-5.76858)\n",
      "10\n",
      "AnnotationBbox(-7.2407,0.00455824)\n",
      "11\n",
      "AnnotationBbox(-10.3495,1.47732)\n",
      "12\n",
      "AnnotationBbox(9.08325,7.34124)\n",
      "13\n",
      "AnnotationBbox(14.456,6.88474)\n",
      "14\n",
      "AnnotationBbox(2.35544,3.64892)\n",
      "15\n",
      "AnnotationBbox(5.19564,-1.93381)\n",
      "16\n",
      "AnnotationBbox(2.01459,-10.0198)\n",
      "17\n",
      "AnnotationBbox(-12.0348,-0.922492)\n",
      "18\n",
      "AnnotationBbox(8.60407,-9.93811)\n",
      "19\n",
      "AnnotationBbox(1.2923,-1.70248)\n",
      "20\n",
      "AnnotationBbox(0.451078,3.70083)\n",
      "21\n",
      "AnnotationBbox(-6.8921,1.86726)\n",
      "22\n",
      "AnnotationBbox(-13.8825,-2.77112)\n",
      "23\n",
      "AnnotationBbox(-14.4986,-4.79523)\n",
      "24\n",
      "AnnotationBbox(-2.0985,-12.1497)\n"
     ]
    }
   ],
   "source": [
    "# Plot as image (easire)\n",
    "fig, ax = plt.subplots()\n",
    "for i in range(new_imgs.shape[0]):\n",
    "    print i\n",
    "    ab = generate_image(subset_imgs, new_desc, i)\n",
    "    print ab\n",
    "    ax.add_artist(ab)\n",
    "plt.xlim([-20, 20])\n",
    "plt.ylim([-15,15])\n",
    "plt.draw()\n",
    "plt.show()"
   ]
  },
  {
   "cell_type": "code",
   "execution_count": null,
   "metadata": {
    "collapsed": true
   },
   "outputs": [],
   "source": []
  }
 ],
 "metadata": {
  "kernelspec": {
   "display_name": "Python 2",
   "language": "python",
   "name": "python2"
  },
  "language_info": {
   "codemirror_mode": {
    "name": "ipython",
    "version": 2
   },
   "file_extension": ".py",
   "mimetype": "text/x-python",
   "name": "python",
   "nbconvert_exporter": "python",
   "pygments_lexer": "ipython2",
   "version": "2.7.12"
  }
 },
 "nbformat": 4,
 "nbformat_minor": 0
}
